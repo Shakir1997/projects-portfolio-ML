{
 "cells": [
  {
   "cell_type": "markdown",
   "metadata": {},
   "source": [
    "# Loading Data "
   ]
  },
  {
   "cell_type": "code",
   "execution_count": 18,
   "metadata": {
    "ExecuteTime": {
     "end_time": "2020-01-28T14:30:37.170012Z",
     "start_time": "2020-01-28T14:30:27.106925Z"
    }
   },
   "outputs": [],
   "source": [
    "import pandas as pd\n",
    "import numpy as np\n",
    "import matplotlib.pyplot as plt\n",
    "import seaborn as sns\n",
    "from tqdm import tqdm_notebook, tnrange\n",
    "import os\n",
    "from sklearn.preprocessing import LabelEncoder\n",
    "\n",
    "#os.chdir(\"/content/drive/My Drive/Chartbusters/ChartbustersParticipantsData\")\n",
    "%matplotlib inline"
   ]
  },
  {
   "cell_type": "code",
   "execution_count": 2,
   "metadata": {
    "ExecuteTime": {
     "end_time": "2020-01-28T14:29:23.675825Z",
     "start_time": "2020-01-28T14:29:22.660040Z"
    }
   },
   "outputs": [
    {
     "name": "stdout",
     "output_type": "stream",
     "text": [
      "(78458, 11)\n",
      "(19615, 10)\n"
     ]
    }
   ],
   "source": [
    "train = pd.read_csv(\"Data_Train.csv\")\n",
    "test = pd.read_csv(\"Data_Test.csv\")\n",
    "print(train.shape)\n",
    "print(test.shape)"
   ]
  },
  {
   "cell_type": "code",
   "execution_count": 3,
   "metadata": {
    "ExecuteTime": {
     "end_time": "2020-01-28T14:29:23.988195Z",
     "start_time": "2020-01-28T14:29:23.895889Z"
    }
   },
   "outputs": [
    {
     "name": "stdout",
     "output_type": "stream",
     "text": [
      "<class 'pandas.core.frame.DataFrame'>\n",
      "RangeIndex: 78458 entries, 0 to 78457\n",
      "Data columns (total 11 columns):\n",
      "Unique_ID     78458 non-null int64\n",
      "Name          78458 non-null object\n",
      "Genre         78458 non-null object\n",
      "Country       78458 non-null object\n",
      "Song_Name     78457 non-null object\n",
      "Timestamp     78458 non-null object\n",
      "Views         78458 non-null int64\n",
      "Comments      78458 non-null int64\n",
      "Likes         78458 non-null object\n",
      "Popularity    78458 non-null object\n",
      "Followers     78458 non-null int64\n",
      "dtypes: int64(4), object(7)\n",
      "memory usage: 6.6+ MB\n",
      "None\n",
      "<class 'pandas.core.frame.DataFrame'>\n",
      "RangeIndex: 19615 entries, 0 to 19614\n",
      "Data columns (total 10 columns):\n",
      "Unique_ID     19615 non-null int64\n",
      "Name          19615 non-null object\n",
      "Genre         19615 non-null object\n",
      "Country       19615 non-null object\n",
      "Song_Name     19615 non-null object\n",
      "Timestamp     19615 non-null object\n",
      "Comments      19615 non-null int64\n",
      "Likes         19615 non-null object\n",
      "Popularity    19615 non-null object\n",
      "Followers     19615 non-null int64\n",
      "dtypes: int64(3), object(7)\n",
      "memory usage: 1.5+ MB\n",
      "None\n"
     ]
    }
   ],
   "source": [
    "print(train.info())\n",
    "print(test.info())"
   ]
  },
  {
   "cell_type": "markdown",
   "metadata": {},
   "source": [
    "# Data Cleaning"
   ]
  },
  {
   "cell_type": "code",
   "execution_count": 4,
   "metadata": {
    "ExecuteTime": {
     "end_time": "2020-01-28T14:29:31.753587Z",
     "start_time": "2020-01-28T14:29:30.914634Z"
    }
   },
   "outputs": [],
   "source": [
    "train.Likes = (train.Likes.replace(r'[KM]+$', '', regex=True).astype(float) * \\\n",
    "   ....:           train.Likes.str.extract(r'[\\d\\.]+([KM]+)', expand=False)\n",
    "   ....:             .fillna(1)\n",
    "   ....:             .replace(['K','M'], [10**3, 10**6]).astype(int))\n",
    "\n",
    "train.Popularity = (train.Popularity.replace(r'[KM]+$', '', regex=True).astype(float) * \\\n",
    "   ....:           train.Popularity.str.extract(r'[\\d\\.]+([KM]+)', expand=False)\n",
    "   ....:             .fillna(1)\n",
    "   ....:             .replace(['K','M'], [10**3, 10**6]).astype(int))\n",
    "\n",
    "test.Likes = (test.Likes.replace(r'[KM]+$', '', regex=True).astype(float) * \\\n",
    "   ....:           test.Likes.str.extract(r'[\\d\\.]+([KM]+)', expand=False)\n",
    "   ....:             .fillna(1)\n",
    "   ....:             .replace(['K','M'], [10**3, 10**6]).astype(int))\n",
    "\n",
    "test.Popularity = (test.Popularity.replace(r'[KM]+$', '', regex=True).astype(float) * \\\n",
    "   ....:           test.Popularity.str.extract(r'[\\d\\.]+([KM]+)', expand=False)\n",
    "   ....:             .fillna(1)\n",
    "   ....:             .replace(['K','M'], [10**3, 10**6]).astype(int))"
   ]
  },
  {
   "cell_type": "code",
   "execution_count": 5,
   "metadata": {
    "ExecuteTime": {
     "end_time": "2020-01-28T14:29:31.938133Z",
     "start_time": "2020-01-28T14:29:31.901522Z"
    }
   },
   "outputs": [],
   "source": [
    "# training Data \n",
    "train['Likes'] = train['Likes'].astype(int)\n",
    "train['Popularity'] = train['Popularity'].astype(int)\n",
    "train['Name'] = train['Name'].astype(str)\n",
    "train['Genre'] = train['Genre'].astype(str)\n",
    "train['Country'] = train['Country'].astype(str)\n",
    "\n",
    "# testing Data\n",
    "test['Likes'] = test['Likes'].astype(int)\n",
    "test['Popularity'] = test['Popularity'].astype(int)\n",
    "test['Name'] = test['Name'].astype(str)\n",
    "test['Genre'] = test['Genre'].astype(str)\n",
    "test['Country'] = test['Country'].astype(str)"
   ]
  },
  {
   "cell_type": "code",
   "execution_count": 6,
   "metadata": {
    "ExecuteTime": {
     "end_time": "2020-01-28T14:29:54.050897Z",
     "start_time": "2020-01-28T14:29:32.755867Z"
    }
   },
   "outputs": [],
   "source": [
    "train['Timestamp'] = pd.to_datetime(train['Timestamp'])\n",
    "test['Timestamp'] = pd.to_datetime(test['Timestamp'])"
   ]
  },
  {
   "cell_type": "code",
   "execution_count": 7,
   "metadata": {
    "ExecuteTime": {
     "end_time": "2020-01-28T14:29:54.431820Z",
     "start_time": "2020-01-28T14:29:54.322586Z"
    }
   },
   "outputs": [],
   "source": [
    "# Converting into Datetime format both training and testing data\n",
    "#train['Timestamp'] = pd.to_datetime(train['Timestamp'])\n",
    "#test['Timestamp'] = pd.to_datetime(test['Timestamp'])\n",
    "\n",
    "# Add columns to training and testing data\n",
    "train['year'] = pd.DatetimeIndex(train['Timestamp']).year\n",
    "train['month'] = pd.DatetimeIndex(train['Timestamp']).month\n",
    "train['day'] = pd.DatetimeIndex(train['Timestamp']).day\n",
    "train['hour'] = pd.DatetimeIndex(train['Timestamp']).hour\n",
    "\n",
    "test['year'] = pd.DatetimeIndex(test['Timestamp']).year\n",
    "test['month'] = pd.DatetimeIndex(test['Timestamp']).month\n",
    "test['day'] = pd.DatetimeIndex(test['Timestamp']).day\n",
    "test['hour'] = pd.DatetimeIndex(test['Timestamp']).hour"
   ]
  },
  {
   "cell_type": "code",
   "execution_count": 8,
   "metadata": {
    "ExecuteTime": {
     "end_time": "2020-01-28T14:29:55.047427Z",
     "start_time": "2020-01-28T14:29:54.584020Z"
    }
   },
   "outputs": [],
   "source": [
    "target = \"Views\"\n",
    "target_value = train[target]\n",
    "train.drop([\"Views\", \"Unique_ID\", \"Song_Name\", \"Timestamp\", \"Name\"], axis=1, inplace=True)\n",
    "test.drop([\"Unique_ID\", \"Song_Name\", \"Timestamp\", \"Name\"], axis=1, inplace=True)"
   ]
  },
  {
   "cell_type": "code",
   "execution_count": 9,
   "metadata": {
    "ExecuteTime": {
     "end_time": "2020-01-28T14:29:55.205529Z",
     "start_time": "2020-01-28T14:29:55.180239Z"
    }
   },
   "outputs": [
    {
     "name": "stdout",
     "output_type": "stream",
     "text": [
      "      Genre Country  Comments  Likes  Popularity  Followers  year  month  day  \\\n",
      "0  danceedm      AU         4    499          97     119563  2018      3   30   \n",
      "1  danceedm      AU        17     49          17       2141  2016      6   20   \n",
      "2  danceedm      AU        11    312          91      22248  2015      8    5   \n",
      "3    rbsoul      AU         2   2400          76     393655  2017      8    6   \n",
      "4  danceedm      AU        81   3031         699     201030  2016      9   17   \n",
      "\n",
      "   hour  \n",
      "0    15  \n",
      "1     5  \n",
      "2    17  \n",
      "3    23  \n",
      "4    20  \n",
      "       Genre Country  Comments  Likes  Popularity  Followers  year  month  \\\n",
      "0  all-music      AU        26   5428         118       2568  2019      2   \n",
      "1   danceedm      AU        18    738         195     155645  2015      9   \n",
      "2   danceedm      AU        18    386          96      29446  2013      9   \n",
      "3  all-music      AU         1    388          19     799410  2007      8   \n",
      "4       rock      AU         0     79           1          2  2018     10   \n",
      "\n",
      "   day  hour  \n",
      "0    1     9  \n",
      "1    3    17  \n",
      "2   18    16  \n",
      "3   14     0  \n",
      "4    8    16  \n"
     ]
    }
   ],
   "source": [
    "print(train.head())\n",
    "print(test.head())"
   ]
  },
  {
   "cell_type": "code",
   "execution_count": 10,
   "metadata": {
    "ExecuteTime": {
     "end_time": "2020-01-28T14:29:55.380082Z",
     "start_time": "2020-01-28T14:29:55.311294Z"
    }
   },
   "outputs": [
    {
     "data": {
      "text/plain": [
       "0     14017\n",
       "1      1918\n",
       "2      9668\n",
       "3    113036\n",
       "4    110024\n",
       "Name: Views, dtype: int64"
      ]
     },
     "execution_count": 10,
     "metadata": {},
     "output_type": "execute_result"
    }
   ],
   "source": [
    "target_value.head()"
   ]
  },
  {
   "cell_type": "code",
   "execution_count": 11,
   "metadata": {
    "ExecuteTime": {
     "end_time": "2020-01-28T14:29:55.576418Z",
     "start_time": "2020-01-28T14:29:55.508837Z"
    }
   },
   "outputs": [],
   "source": [
    "target_value = pd.DataFrame(target_value, columns=['Views'])"
   ]
  },
  {
   "cell_type": "code",
   "execution_count": 12,
   "metadata": {
    "ExecuteTime": {
     "end_time": "2020-01-28T14:29:55.770880Z",
     "start_time": "2020-01-28T14:29:55.755727Z"
    }
   },
   "outputs": [
    {
     "name": "stdout",
     "output_type": "stream",
     "text": [
      "Total number of unique entries are 31\n",
      "[2018 2016 2015 2017 2012 2014 2011 2013 2009 2019 2005 2004 2010 1994\n",
      " 1991 2002 2007 2001 2003 2008 2006 1999 2000 1996 1973 1995 1992 1990\n",
      " 1997 1979 1986]\n"
     ]
    }
   ],
   "source": [
    "print(\"Total number of unique entries are {}\".format(train['year'].nunique()))\n",
    "print(train['year'].unique())"
   ]
  },
  {
   "cell_type": "code",
   "execution_count": 13,
   "metadata": {
    "ExecuteTime": {
     "end_time": "2020-01-28T14:29:55.956205Z",
     "start_time": "2020-01-28T14:29:55.924270Z"
    }
   },
   "outputs": [
    {
     "name": "stdout",
     "output_type": "stream",
     "text": [
      "1\n",
      "['AU']\n"
     ]
    }
   ],
   "source": [
    "print(train['Country'].nunique())\n",
    "print(train['Country'].unique())\n",
    "train.drop([\"Country\"], axis=1, inplace=True)\n",
    "test.drop([\"Country\"], axis=1, inplace=True)"
   ]
  },
  {
   "cell_type": "code",
   "execution_count": 14,
   "metadata": {
    "ExecuteTime": {
     "end_time": "2020-01-28T14:29:56.155114Z",
     "start_time": "2020-01-28T14:29:56.122588Z"
    }
   },
   "outputs": [
    {
     "name": "stdout",
     "output_type": "stream",
     "text": [
      "21\n",
      "['danceedm' 'rbsoul' 'all-music' 'trap' 'latin' 'electronic' 'deephouse'\n",
      " 'hiphoprap' 'classical' 'ambient' 'pop' 'rock' 'reggaeton' 'country'\n",
      " 'disco' 'alternativerock' 'dubstep' 'drumbass' 'metal'\n",
      " 'folksingersongwriter' 'indie']\n"
     ]
    }
   ],
   "source": [
    "print(train['Genre'].nunique())\n",
    "print(train['Genre'].unique())"
   ]
  },
  {
   "cell_type": "code",
   "execution_count": 15,
   "metadata": {
    "ExecuteTime": {
     "end_time": "2020-01-28T14:29:56.348298Z",
     "start_time": "2020-01-28T14:29:56.311312Z"
    }
   },
   "outputs": [
    {
     "name": "stdout",
     "output_type": "stream",
     "text": [
      "      Genre  Comments  Likes  Popularity  Followers  year  month  day  hour\n",
      "0  danceedm         4    499          97     119563  2018      3   30    15\n",
      "1  danceedm        17     49          17       2141  2016      6   20     5\n",
      "2  danceedm        11    312          91      22248  2015      8    5    17\n",
      "3    rbsoul         2   2400          76     393655  2017      8    6    23\n",
      "4  danceedm        81   3031         699     201030  2016      9   17    20\n",
      "       Genre  Comments  Likes  Popularity  Followers  year  month  day  hour\n",
      "0  all-music        26   5428         118       2568  2019      2    1     9\n",
      "1   danceedm        18    738         195     155645  2015      9    3    17\n",
      "2   danceedm        18    386          96      29446  2013      9   18    16\n",
      "3  all-music         1    388          19     799410  2007      8   14     0\n",
      "4       rock         0     79           1          2  2018     10    8    16\n"
     ]
    }
   ],
   "source": [
    "print(train.head())\n",
    "print(test.head())"
   ]
  },
  {
   "cell_type": "code",
   "execution_count": 16,
   "metadata": {
    "ExecuteTime": {
     "end_time": "2020-01-28T14:29:56.507914Z",
     "start_time": "2020-01-28T14:29:56.485301Z"
    }
   },
   "outputs": [],
   "source": [
    "train.drop(['day', 'hour'], axis=1, inplace=True)\n",
    "test.drop(['day', 'hour'], axis=1, inplace=True)"
   ]
  },
  {
   "cell_type": "code",
   "execution_count": 17,
   "metadata": {
    "ExecuteTime": {
     "end_time": "2020-01-28T14:29:56.690780Z",
     "start_time": "2020-01-28T14:29:56.656248Z"
    }
   },
   "outputs": [
    {
     "name": "stdout",
     "output_type": "stream",
     "text": [
      "      Genre  Comments  Likes  Popularity  Followers  year  month\n",
      "0  danceedm         4    499          97     119563  2018      3\n",
      "1  danceedm        17     49          17       2141  2016      6\n",
      "2  danceedm        11    312          91      22248  2015      8\n",
      "3    rbsoul         2   2400          76     393655  2017      8\n",
      "4  danceedm        81   3031         699     201030  2016      9\n",
      "       Genre  Comments  Likes  Popularity  Followers  year  month\n",
      "0  all-music        26   5428         118       2568  2019      2\n",
      "1   danceedm        18    738         195     155645  2015      9\n",
      "2   danceedm        18    386          96      29446  2013      9\n",
      "3  all-music         1    388          19     799410  2007      8\n",
      "4       rock         0     79           1          2  2018     10\n",
      "    Views\n",
      "0   14017\n",
      "1    1918\n",
      "2    9668\n",
      "3  113036\n",
      "4  110024\n"
     ]
    }
   ],
   "source": [
    "print(train.head())\n",
    "print(test.head())\n",
    "print(target_value.head())"
   ]
  },
  {
   "cell_type": "markdown",
   "metadata": {},
   "source": [
    "# Data Preprocession"
   ]
  },
  {
   "cell_type": "markdown",
   "metadata": {},
   "source": [
    "## Preprocessing only for non-tree based algorithm"
   ]
  },
  {
   "cell_type": "code",
   "execution_count": 19,
   "metadata": {
    "ExecuteTime": {
     "end_time": "2020-01-28T14:33:02.416280Z",
     "start_time": "2020-01-28T14:32:50.277859Z"
    }
   },
   "outputs": [
    {
     "data": {
      "text/plain": [
       "<matplotlib.axes._subplots.AxesSubplot at 0x1c100721128>"
      ]
     },
     "execution_count": 19,
     "metadata": {},
     "output_type": "execute_result"
    },
    {
     "data": {
      "image/png": "[encoded data removed]",
      "text/plain": [
       "<Figure size 432x288 with 1 Axes>"
      ]
     },
     "metadata": {
      "needs_background": "light"
     },
     "output_type": "display_data"
    }
   ],
   "source": [
    "#fig, axs = plt.subplots(ncols=2, nrows=2)\n",
    "sns.distplot(train['Comments'], hist=False, rug=True)\n",
    "sns.distplot(train['Likes'], hist=False, rug=True)\n",
    "sns.distplot(train['Popularity'], hist=False, rug=True)\n",
    "sns.distplot(train['Followers'], hist=False, rug=True)"
   ]
  },
  {
   "cell_type": "code",
   "execution_count": 20,
   "metadata": {
    "ExecuteTime": {
     "end_time": "2020-01-28T14:33:02.570915Z",
     "start_time": "2020-01-28T14:33:02.556246Z"
    }
   },
   "outputs": [],
   "source": [
    "import matplotlib.pyplot as pl\n",
    "def distribution(data, transformed = False):\n",
    "    \"\"\"\n",
    "    Visualization code for displaying skewed distributions of features\n",
    "    \"\"\"\n",
    "    \n",
    "    # Create figure\n",
    "    fig = pl.figure(figsize = (11,5));\n",
    "\n",
    "    # Skewed feature plotting\n",
    "    for i, feature in enumerate(['Comments','Likes', 'Popularity', 'Followers']):\n",
    "        ax = fig.add_subplot(1, 4, i+1)\n",
    "        ax.hist(train[feature], bins = 25, color = '#00A0A0')\n",
    "        ax.set_title(\"'%s' Feature Dist\"%(feature), fontsize = 14)\n",
    "        ax.set_xlabel(\"Value\")\n",
    "        ax.set_ylabel(\"Number of Records\")\n",
    "        ax.set_ylim((0, 2000))\n",
    "        ax.set_yticks([0, 500, 1000, 1500, 2000])\n",
    "        ax.set_yticklabels([0, 500, 1000, 1500, \">2000\"])\n",
    "\n",
    "    # Plot aesthetics\n",
    "    if transformed:\n",
    "        fig.suptitle(\"Log-transformed Distributions of Continuous Census Data Features\", \\\n",
    "            fontsize = 16, y = 1.03)\n",
    "    else:\n",
    "        fig.suptitle(\"Skewed Distributions of Continuous Census Data Features\", \\\n",
    "            fontsize = 16, y = 1.03)\n",
    "\n",
    "    fig.tight_layout()\n",
    "    fig.show()"
   ]
  },
  {
   "cell_type": "code",
   "execution_count": 21,
   "metadata": {
    "ExecuteTime": {
     "end_time": "2020-01-28T14:33:04.230392Z",
     "start_time": "2020-01-28T14:33:02.685977Z"
    }
   },
   "outputs": [
    {
     "name": "stderr",
     "output_type": "stream",
     "text": [
      "C:\\Users\\shaki\\Anaconda3\\envs\\tensorflow_env\\lib\\site-packages\\ipykernel_launcher.py:30: UserWarning: Matplotlib is currently using module://ipykernel.pylab.backend_inline, which is a non-GUI backend, so cannot show the figure.\n"
     ]
    },
    {
     "data": {
      "image/png": "[encoded data removed]",
      "text/plain": [
       "<Figure size 792x360 with 4 Axes>"
      ]
     },
     "metadata": {
      "needs_background": "light"
     },
     "output_type": "display_data"
    }
   ],
   "source": [
    "distribution(train)"
   ]
  },
  {
   "cell_type": "code",
   "execution_count": 22,
   "metadata": {
    "ExecuteTime": {
     "end_time": "2020-01-28T14:33:06.017938Z",
     "start_time": "2020-01-28T14:33:04.399140Z"
    }
   },
   "outputs": [
    {
     "name": "stderr",
     "output_type": "stream",
     "text": [
      "C:\\Users\\shaki\\Anaconda3\\envs\\tensorflow_env\\lib\\site-packages\\ipykernel_launcher.py:30: UserWarning: Matplotlib is currently using module://ipykernel.pylab.backend_inline, which is a non-GUI backend, so cannot show the figure.\n"
     ]
    },
    {
     "data": {
      "image/png": "[encoded data removed]",
      "text/plain": [
       "<Figure size 792x360 with 4 Axes>"
      ]
     },
     "metadata": {
      "needs_background": "light"
     },
     "output_type": "display_data"
    }
   ],
   "source": [
    "skewed = ['Comments', 'Likes', 'Popularity', 'Followers']\n",
    "train[skewed] = train[skewed].apply(lambda x: np.log(x + 1))\n",
    "test[skewed] = test[skewed].apply(lambda x: np.log(x+ 1 ))\n",
    "# Visualize the new log distributions\n",
    "distribution(train, transformed = True)"
   ]
  },
  {
   "cell_type": "code",
   "execution_count": 23,
   "metadata": {
    "ExecuteTime": {
     "end_time": "2020-01-28T14:33:06.175650Z",
     "start_time": "2020-01-28T14:33:06.155037Z"
    }
   },
   "outputs": [],
   "source": [
    "import matplotlib.pyplot as pl\n",
    "def distribution(data, transformed = False):\n",
    "    \"\"\"\n",
    "    Visualization code for displaying skewed distributions of features\n",
    "    \"\"\"\n",
    "    \n",
    "    # Create figure\n",
    "    fig = pl.figure(figsize = (11,5));\n",
    "\n",
    "    # Skewed feature plotting\n",
    "    for i, feature in enumerate(['Views']):\n",
    "        ax = fig.add_subplot(1, 2, i+1)\n",
    "        ax.hist(target_value[feature], bins = 25, color = '#00A0A0')\n",
    "        ax.set_title(\"'%s' Feature Dist\"%(feature), fontsize = 14)\n",
    "        ax.set_xlabel(\"Value\")\n",
    "        ax.set_ylabel(\"Number of Records\")\n",
    "        ax.set_ylim((0, 2000))\n",
    "        ax.set_yticks([0, 500, 1000, 1500, 2000])\n",
    "        ax.set_yticklabels([0, 500, 1000, 1500, \">2000\"])\n",
    "\n",
    "    # Plot aesthetics\n",
    "    if transformed:\n",
    "        fig.suptitle(\"Log-transformed Distributions of Continuous Census Data Features\", \\\n",
    "            fontsize = 16, y = 1.03)\n",
    "    else:\n",
    "        fig.suptitle(\"Skewed Distributions of Continuous Census Data Features\", \\\n",
    "            fontsize = 16, y = 1.03)\n",
    "\n",
    "    fig.tight_layout()\n",
    "    fig.show()"
   ]
  },
  {
   "cell_type": "code",
   "execution_count": 24,
   "metadata": {
    "ExecuteTime": {
     "end_time": "2020-01-28T14:33:06.820830Z",
     "start_time": "2020-01-28T14:33:06.318447Z"
    }
   },
   "outputs": [
    {
     "name": "stderr",
     "output_type": "stream",
     "text": [
      "C:\\Users\\shaki\\Anaconda3\\envs\\tensorflow_env\\lib\\site-packages\\ipykernel_launcher.py:30: UserWarning: Matplotlib is currently using module://ipykernel.pylab.backend_inline, which is a non-GUI backend, so cannot show the figure.\n"
     ]
    },
    {
     "data": {
      "image/png": "[encoded data removed]",
      "text/plain": [
       "<Figure size 792x360 with 1 Axes>"
      ]
     },
     "metadata": {
      "needs_background": "light"
     },
     "output_type": "display_data"
    }
   ],
   "source": [
    "distribution(target_value)"
   ]
  },
  {
   "cell_type": "code",
   "execution_count": 25,
   "metadata": {
    "ExecuteTime": {
     "end_time": "2020-01-28T14:33:07.412432Z",
     "start_time": "2020-01-28T14:33:06.960810Z"
    }
   },
   "outputs": [
    {
     "name": "stderr",
     "output_type": "stream",
     "text": [
      "C:\\Users\\shaki\\Anaconda3\\envs\\tensorflow_env\\lib\\site-packages\\ipykernel_launcher.py:30: UserWarning: Matplotlib is currently using module://ipykernel.pylab.backend_inline, which is a non-GUI backend, so cannot show the figure.\n"
     ]
    },
    {
     "data": {
      "image/png": "[encoded data removed]",
      "text/plain": [
       "<Figure size 792x360 with 1 Axes>"
      ]
     },
     "metadata": {
      "needs_background": "light"
     },
     "output_type": "display_data"
    }
   ],
   "source": [
    "skewed = ['Views']\n",
    "target_value[skewed] = target_value[skewed].apply(lambda x: np.log(x + 1))\n",
    "\n",
    "distribution(target_value, transformed=True)"
   ]
  },
  {
   "cell_type": "code",
   "execution_count": 26,
   "metadata": {
    "ExecuteTime": {
     "end_time": "2020-01-28T14:33:07.583322Z",
     "start_time": "2020-01-28T14:33:07.548398Z"
    }
   },
   "outputs": [
    {
     "name": "stdout",
     "output_type": "stream",
     "text": [
      "      Genre  Comments     Likes  Popularity  Followers  year  month\n",
      "0  danceedm  1.609438  6.214608    4.584967  11.691607  2018      3\n",
      "1  danceedm  2.890372  3.912023    2.890372   7.669495  2016      6\n",
      "2  danceedm  2.484907  5.746203    4.521789  10.010052  2015      8\n",
      "3    rbsoul  1.098612  7.783641    4.343805  12.883233  2017      8\n",
      "4  danceedm  4.406719  8.016978    6.551080  12.211214  2016      9\n",
      "       Genre  Comments     Likes  Popularity  Followers  year  month\n",
      "0  all-music  3.295837  8.599510    4.779123   7.851272  2019      2\n",
      "1   danceedm  2.944439  6.605298    5.278115  11.955339  2015      9\n",
      "2   danceedm  2.944439  5.958425    4.574711  10.290347  2013      9\n",
      "3  all-music  0.693147  5.963579    2.995732  13.591630  2007      8\n",
      "4       rock  0.000000  4.382027    0.693147   1.098612  2018     10\n",
      "       Views\n",
      "0   9.548097\n",
      "1   7.559559\n",
      "2   9.176680\n",
      "3  11.635470\n",
      "4  11.608463\n"
     ]
    }
   ],
   "source": [
    "print(train.head())\n",
    "print(test.head())\n",
    "print(target_value.head())"
   ]
  },
  {
   "cell_type": "markdown",
   "metadata": {},
   "source": [
    "## Preprocessing for tree based algorithm"
   ]
  },
  {
   "cell_type": "code",
   "execution_count": 28,
   "metadata": {
    "ExecuteTime": {
     "end_time": "2020-01-28T14:35:21.805486Z",
     "start_time": "2020-01-28T14:35:21.758202Z"
    }
   },
   "outputs": [],
   "source": [
    "label_encoding = LabelEncoder()\n",
    "#catg = ['Genre', 'year', 'month']\n",
    "train['Genre'] = label_encoding.fit_transform(train['Genre'])\n",
    "#train['year'] = label_encoding.fit_transform(train['year'])\n",
    "#train['month'] = label_encoding.fit_transform(train['month'])\n",
    "\n",
    "test['Genre'] = label_encoding.fit_transform(test['Genre'])\n",
    "#test['year'] = label_encoding.fit_transform(test['year'])\n",
    "#test['month'] = label_encoding.fit_transform(test['month'])\n",
    "#train['Genre'] = label_encoding.transform(train['Genre'])"
   ]
  },
  {
   "cell_type": "code",
   "execution_count": 29,
   "metadata": {
    "ExecuteTime": {
     "end_time": "2020-01-28T14:35:23.070964Z",
     "start_time": "2020-01-28T14:35:23.046445Z"
    }
   },
   "outputs": [
    {
     "name": "stdout",
     "output_type": "stream",
     "text": [
      "   Genre  Comments     Likes  Popularity  Followers  year  month\n",
      "0      5  1.609438  6.214608    4.584967  11.691607  2018      3\n",
      "1      5  2.890372  3.912023    2.890372   7.669495  2016      6\n",
      "2      5  2.484907  5.746203    4.521789  10.010052  2015      8\n",
      "   Genre  Comments     Likes  Popularity  Followers  year  month\n",
      "0      0  3.295837  8.599510    4.779123   7.851272  2019      2\n",
      "1      5  2.944439  6.605298    5.278115  11.955339  2015      9\n",
      "2      5  2.944439  5.958425    4.574711  10.290347  2013      9\n"
     ]
    }
   ],
   "source": [
    "print(train.head(n=3))\n",
    "print(test.head(n=3))"
   ]
  },
  {
   "cell_type": "code",
   "execution_count": 30,
   "metadata": {
    "ExecuteTime": {
     "end_time": "2020-01-28T14:35:29.758253Z",
     "start_time": "2020-01-28T14:35:28.895780Z"
    }
   },
   "outputs": [
    {
     "name": "stdout",
     "output_type": "stream",
     "text": [
      "Training set has 62766 samples.\n",
      "Testing set has 15692 samples.\n"
     ]
    }
   ],
   "source": [
    "from sklearn.model_selection import train_test_split\n",
    "\n",
    "# Split the 'features' and 'income' data into training and testing sets\n",
    "X_train, X_test, y_train, y_test = train_test_split(train, \n",
    "                                                    target_value, \n",
    "                                                    test_size = 0.2, \n",
    "                                                    random_state = 123)\n",
    "\n",
    "# Show the results of the split\n",
    "print(\"Training set has {} samples.\".format(X_train.shape[0]))\n",
    "print(\"Testing set has {} samples.\".format(X_test.shape[0]))"
   ]
  },
  {
   "cell_type": "markdown",
   "metadata": {},
   "source": [
    "# Applying Different algorithm"
   ]
  },
  {
   "cell_type": "markdown",
   "metadata": {},
   "source": [
    "## sub_3_bs model"
   ]
  },
  {
   "cell_type": "code",
   "execution_count": 156,
   "metadata": {},
   "outputs": [
    {
     "name": "stdout",
     "output_type": "stream",
     "text": [
      "[22:59:03] WARNING: C:/Jenkins/workspace/xgboost-win64_release_0.90/src/objective/regression_obj.cu:152: reg:linear is now deprecated in favor of reg:squarederror.\n"
     ]
    },
    {
     "data": {
      "text/plain": [
       "(15692,)"
      ]
     },
     "execution_count": 156,
     "metadata": {},
     "output_type": "execute_result"
    }
   ],
   "source": [
    "import xgboost as xgb\n",
    "xg_reg = xgb.XGBRegressor(colsample_bytree=1, max_depth=5, min_child_weight=1, n_estimators=400)\n",
    "xg_reg.fit(X_train,y_train)\n",
    "preds = xg_reg.predict(X_test)\n",
    "preds.shape"
   ]
  },
  {
   "cell_type": "code",
   "execution_count": 157,
   "metadata": {},
   "outputs": [
    {
     "name": "stdout",
     "output_type": "stream",
     "text": [
      "RMSE: 653199.524651\n"
     ]
    }
   ],
   "source": [
    "import sklearn\n",
    "rmse = np.sqrt(sklearn.metrics.mean_squared_error(y_test, preds))\n",
    "print(\"RMSE: %f\" % (rmse))\n",
    "\n",
    "y_out = xg_reg.predict(test)\n",
    "y_out = np.reshape(y_out, (-1,1))"
   ]
  },
  {
   "cell_type": "markdown",
   "metadata": {},
   "source": [
    "## sub_12 best model"
   ]
  },
  {
   "cell_type": "code",
   "execution_count": 22,
   "metadata": {},
   "outputs": [
    {
     "name": "stdout",
     "output_type": "stream",
     "text": [
      "[09:31:21] WARNING: C:/Jenkins/workspace/xgboost-win64_release_0.90/src/objective/regression_obj.cu:152: reg:linear is now deprecated in favor of reg:squarederror.\n"
     ]
    },
    {
     "data": {
      "text/plain": [
       "(15692,)"
      ]
     },
     "execution_count": 22,
     "metadata": {},
     "output_type": "execute_result"
    }
   ],
   "source": [
    "import xgboost as xgb\n",
    "xg_reg = xgb.XGBRegressor(colsample_bytree=1, max_depth=5, min_child_weight=1, n_estimators=500)\n",
    "xg_reg.fit(X_train,y_train)\n",
    "preds = xg_reg.predict(X_test)\n",
    "preds.shape"
   ]
  },
  {
   "cell_type": "code",
   "execution_count": 23,
   "metadata": {},
   "outputs": [
    {
     "name": "stdout",
     "output_type": "stream",
     "text": [
      "RMSE: 652720.452490\n"
     ]
    }
   ],
   "source": [
    "import sklearn\n",
    "rmse = np.sqrt(sklearn.metrics.mean_squared_error(y_test, preds))\n",
    "print(\"RMSE: %f\" % (rmse))\n",
    "\n",
    "y_out = xg_reg.predict(test)\n",
    "y_out = np.reshape(y_out, (-1,1))"
   ]
  },
  {
   "cell_type": "code",
   "execution_count": 158,
   "metadata": {},
   "outputs": [],
   "source": [
    "y_out = pd.DataFrame(data=y_out, columns=['Views'])"
   ]
  },
  {
   "cell_type": "code",
   "execution_count": 159,
   "metadata": {},
   "outputs": [],
   "source": [
    "t1 = pd.read_csv('Data_Test.csv')\n",
    "fin = pd.concat([t1['Unique_ID'], y_out['Views']], axis=1, names=['Unique_ID', 'Views'])\n",
    "fin.to_csv(\"result.csv\")\n",
    "res = pd.read_csv(\"result.csv\", index_col=['Unique_ID'])\n",
    "res.drop(['Unnamed: 0'], axis=1, inplace=True)\n",
    "res.to_csv(\"result.csv\")"
   ]
  },
  {
   "cell_type": "code",
   "execution_count": null,
   "metadata": {},
   "outputs": [],
   "source": []
  },
  {
   "cell_type": "markdown",
   "metadata": {},
   "source": [
    "## sub_11 2 best model"
   ]
  },
  {
   "cell_type": "code",
   "execution_count": 26,
   "metadata": {},
   "outputs": [
    {
     "name": "stdout",
     "output_type": "stream",
     "text": [
      "[09:39:23] WARNING: C:/Jenkins/workspace/xgboost-win64_release_0.90/src/objective/regression_obj.cu:152: reg:linear is now deprecated in favor of reg:squarederror.\n"
     ]
    },
    {
     "data": {
      "text/plain": [
       "(15692,)"
      ]
     },
     "execution_count": 26,
     "metadata": {},
     "output_type": "execute_result"
    }
   ],
   "source": [
    "import xgboost as xgb\n",
    "xg_reg = xgb.XGBRegressor(colsample_bytree=1, max_depth=5)\n",
    "xg_reg.fit(X_train,y_train)\n",
    "preds = xg_reg.predict(X_test)\n",
    "preds.shape"
   ]
  },
  {
   "cell_type": "code",
   "execution_count": 27,
   "metadata": {},
   "outputs": [
    {
     "name": "stdout",
     "output_type": "stream",
     "text": [
      "RMSE: 687064.042208\n"
     ]
    }
   ],
   "source": [
    "import sklearn\n",
    "rmse = np.sqrt(sklearn.metrics.mean_squared_error(y_test, preds))\n",
    "print(\"RMSE: %f\" % (rmse))\n",
    "\n",
    "y_out = xg_reg.predict(test)\n",
    "y_out = np.reshape(y_out, (-1,1))"
   ]
  },
  {
   "cell_type": "markdown",
   "metadata": {},
   "source": [
    "## RandomForest Algorithm"
   ]
  },
  {
   "cell_type": "code",
   "execution_count": 160,
   "metadata": {},
   "outputs": [],
   "source": [
    "from sklearn.ensemble import RandomForestRegressor"
   ]
  },
  {
   "cell_type": "code",
   "execution_count": 161,
   "metadata": {},
   "outputs": [
    {
     "name": "stderr",
     "output_type": "stream",
     "text": [
      "C:\\Users\\shaki\\Anaconda3\\envs\\tensorflow_env\\lib\\site-packages\\ipykernel_launcher.py:2: DataConversionWarning: A column-vector y was passed when a 1d array was expected. Please change the shape of y to (n_samples,), for example using ravel().\n",
      "  \n"
     ]
    },
    {
     "data": {
      "text/plain": [
       "RandomForestRegressor(bootstrap=True, criterion='mse', max_depth=None,\n",
       "                      max_features='auto', max_leaf_nodes=None,\n",
       "                      min_impurity_decrease=0.0, min_impurity_split=None,\n",
       "                      min_samples_leaf=1, min_samples_split=2,\n",
       "                      min_weight_fraction_leaf=0.0, n_estimators=200,\n",
       "                      n_jobs=None, oob_score=False, random_state=0, verbose=0,\n",
       "                      warm_start=False)"
      ]
     },
     "execution_count": 161,
     "metadata": {},
     "output_type": "execute_result"
    }
   ],
   "source": [
    "model = RandomForestRegressor(n_estimators=200, random_state=0)\n",
    "model.fit(X_train, y_train)"
   ]
  },
  {
   "cell_type": "code",
   "execution_count": 162,
   "metadata": {},
   "outputs": [],
   "source": [
    "preds = model.predict(X_test)"
   ]
  },
  {
   "cell_type": "code",
   "execution_count": 163,
   "metadata": {},
   "outputs": [],
   "source": [
    "predictions = model.predict(test)"
   ]
  },
  {
   "cell_type": "code",
   "execution_count": 165,
   "metadata": {},
   "outputs": [
    {
     "name": "stdout",
     "output_type": "stream",
     "text": [
      "RMSE: 768164.961457\n"
     ]
    }
   ],
   "source": [
    "import sklearn\n",
    "rmse = np.sqrt(sklearn.metrics.mean_squared_error(y_test, preds))\n",
    "print(\"RMSE: %f\" % (rmse))"
   ]
  },
  {
   "cell_type": "code",
   "execution_count": 47,
   "metadata": {},
   "outputs": [],
   "source": [
    "y_out = pd.DataFrame(data=predictions, columns=['Views'])"
   ]
  },
  {
   "cell_type": "markdown",
   "metadata": {},
   "source": [
    "## GradientBoostingAlgorithm"
   ]
  },
  {
   "cell_type": "code",
   "execution_count": 179,
   "metadata": {},
   "outputs": [],
   "source": [
    "from sklearn.ensemble import GradientBoostingRegressor\n",
    "grb=GradientBoostingRegressor(learning_rate=0.1,n_estimators=200, max_depth=5\n",
    "                              ,subsample=0.8,\n",
    "                              verbose=True,random_state=10)"
   ]
  },
  {
   "cell_type": "code",
   "execution_count": 180,
   "metadata": {
    "scrolled": true
   },
   "outputs": [
    {
     "name": "stderr",
     "output_type": "stream",
     "text": [
      "C:\\Users\\shaki\\Anaconda3\\envs\\tensorflow_env\\lib\\site-packages\\sklearn\\ensemble\\gradient_boosting.py:1450: DataConversionWarning: A column-vector y was passed when a 1d array was expected. Please change the shape of y to (n_samples, ), for example using ravel().\n",
      "  y = column_or_1d(y, warn=True)\n"
     ]
    },
    {
     "name": "stdout",
     "output_type": "stream",
     "text": [
      "      Iter       Train Loss      OOB Improve   Remaining Time \n",
      "         1 11476674610981.4082 3840863089772.7930           20.09s\n",
      "         2 9866672255542.0566 2406720072630.9277           19.69s\n",
      "         3 8330430346923.1592 1738174885540.3906           19.16s\n",
      "         4 6993864977081.2383 1214466522607.9082           18.32s\n",
      "         5 5469402885722.8359 1416490844786.0049           17.89s\n",
      "         6 4705869042506.9512 793548231609.7095           17.81s\n",
      "         7 3931982905909.7578 557592720648.4448           17.47s\n",
      "         8 3185043505855.1875 514952954257.7817           17.22s\n",
      "         9 2494029947183.8403 562861864815.6255           17.37s\n",
      "        10 2081111433765.3962 413652236944.8169           17.13s\n",
      "        20 446882786325.4976 36216233868.0272           16.02s\n",
      "        30 188417538675.2888  5458222840.5702           15.05s\n",
      "        40 137242149572.8594    37777520.4012           14.10s\n",
      "        50 113432768082.3768  -313756691.5271           12.90s\n",
      "        60 101288279593.5180  -234674436.8158           11.86s\n",
      "        70 89934317959.5893    69824332.4267           11.27s\n",
      "        80 79050263288.7053   102179840.4725           10.36s\n",
      "        90 68929127333.5310  -186081434.6905            9.44s\n",
      "       100 61611051065.0692  -347528503.8614            8.55s\n",
      "       200 29355345339.6046   -11435975.8146            0.00s\n"
     ]
    },
    {
     "data": {
      "text/plain": [
       "GradientBoostingRegressor(alpha=0.9, criterion='friedman_mse', init=None,\n",
       "                          learning_rate=0.1, loss='ls', max_depth=5,\n",
       "                          max_features=None, max_leaf_nodes=None,\n",
       "                          min_impurity_decrease=0.0, min_impurity_split=None,\n",
       "                          min_samples_leaf=1, min_samples_split=2,\n",
       "                          min_weight_fraction_leaf=0.0, n_estimators=200,\n",
       "                          n_iter_no_change=None, presort='auto',\n",
       "                          random_state=10, subsample=0.8, tol=0.0001,\n",
       "                          validation_fraction=0.1, verbose=True,\n",
       "                          warm_start=False)"
      ]
     },
     "execution_count": 180,
     "metadata": {},
     "output_type": "execute_result"
    }
   ],
   "source": [
    "grb.fit(X_train, y_train)"
   ]
  },
  {
   "cell_type": "code",
   "execution_count": 181,
   "metadata": {},
   "outputs": [
    {
     "data": {
      "text/plain": [
       "(15692,)"
      ]
     },
     "execution_count": 181,
     "metadata": {},
     "output_type": "execute_result"
    }
   ],
   "source": [
    "preds = grb.predict(X_test)\n",
    "preds.shape"
   ]
  },
  {
   "cell_type": "code",
   "execution_count": 182,
   "metadata": {},
   "outputs": [
    {
     "name": "stdout",
     "output_type": "stream",
     "text": [
      "RMSE: 694455.207721\n"
     ]
    }
   ],
   "source": [
    "import sklearn\n",
    "rmse = np.sqrt(sklearn.metrics.mean_squared_error(y_test, preds))\n",
    "print(\"RMSE: %f\" % (rmse))\n",
    "\n",
    "y_out = xg_reg.predict(test)\n",
    "y_out = np.reshape(y_out, (-1,1))"
   ]
  },
  {
   "cell_type": "markdown",
   "metadata": {},
   "source": [
    "# Submission"
   ]
  },
  {
   "cell_type": "code",
   "execution_count": 183,
   "metadata": {},
   "outputs": [],
   "source": [
    "y_out = pd.DataFrame(data=y_out, columns=['Views'])"
   ]
  },
  {
   "cell_type": "code",
   "execution_count": 184,
   "metadata": {},
   "outputs": [],
   "source": [
    "t1 = pd.read_csv('Data_Test.csv')\n",
    "fin = pd.concat([t1['Unique_ID'], y_out['Views']], axis=1, names=['Unique_ID', 'Views'])\n",
    "fin.to_csv(\"result.csv\")\n",
    "res = pd.read_csv(\"result.csv\", index_col=['Unique_ID'])\n",
    "res.drop(['Unnamed: 0'], axis=1, inplace=True)\n",
    "res.to_csv(\"result.csv\")"
   ]
  },
  {
   "cell_type": "code",
   "execution_count": null,
   "metadata": {},
   "outputs": [],
   "source": []
  }
 ],
 "metadata": {
  "kernelspec": {
   "display_name": "Python 3",
   "language": "python",
   "name": "python3"
  },
  "language_info": {
   "codemirror_mode": {
    "name": "ipython",
    "version": 3
   },
   "file_extension": ".py",
   "mimetype": "text/x-python",
   "name": "python",
   "nbconvert_exporter": "python",
   "pygments_lexer": "ipython3",
   "version": "3.7.3"
  },
  "toc": {
   "base_numbering": 1,
   "nav_menu": {},
   "number_sections": true,
   "sideBar": true,
   "skip_h1_title": false,
   "title_cell": "Table of Contents",
   "title_sidebar": "Contents",
   "toc_cell": false,
   "toc_position": {},
   "toc_section_display": true,
   "toc_window_display": true
  },
  "varInspector": {
   "cols": {
    "lenName": 16,
    "lenType": 16,
    "lenVar": 40
   },
   "kernels_config": {
    "python": {
     "delete_cmd_postfix": "",
     "delete_cmd_prefix": "del ",
     "library": "var_list.py",
     "varRefreshCmd": "print(var_dic_list())"
    },
    "r": {
     "delete_cmd_postfix": ") ",
     "delete_cmd_prefix": "rm(",
     "library": "var_list.r",
     "varRefreshCmd": "cat(var_dic_list()) "
    }
   },
   "types_to_exclude": [
    "module",
    "function",
    "builtin_function_or_method",
    "instance",
    "_Feature"
   ],
   "window_display": false
  }
 },
 "nbformat": 4,
 "nbformat_minor": 2
}
